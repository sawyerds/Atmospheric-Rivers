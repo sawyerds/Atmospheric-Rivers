{
 "cells": [
  {
   "cell_type": "code",
   "execution_count": 1,
   "id": "9f3a6677-7d14-4720-abe5-c25e0122601e",
   "metadata": {},
   "outputs": [],
   "source": [
    "#import sys\n",
    "#!{sys.executable} -m pip install geopandas\n",
    " \n",
    "import os\n",
    "import geopandas as gpd\n",
    "from shapely.geometry import Point\n",
    "from shapely.prepared import prep\n",
    "import csv\n",
    "import subprocess\n",
    "import matplotlib.pyplot as plt\n",
    "from matplotlib.cm import get_cmap\n",
    "import matplotlib.cbook as cbook\n",
    "from matplotlib.colors import Normalize\n",
    "import matplotlib.animation as animation\n",
    "from matplotlib.animation import FuncAnimation\n",
    "import matplotlib.colors as mcolors\n",
    "from matplotlib.colors import TwoSlopeNorm\n",
    "from matplotlib.font_manager import FontProperties\n",
    "\n",
    "import pandas as pd\n",
    "import xarray as xr\n",
    "import numpy as np\n",
    "import math\n",
    "from numpy import *\n",
    "from pylab import *\n",
    "import pygrib\n",
    "import pyproj\n",
    "from sklearn.metrics import mean_squared_error\n",
    "from sklearn.metrics import mean_absolute_error\n",
    "from scipy.interpolate import griddata\n",
    "from siphon.catalog import TDSCatalog\n",
    "from siphon.http_util import session_manager\n",
    "from datetime import datetime, timedelta\n",
    "from xarray.backends import NetCDF4DataStore\n",
    "from netCDF4 import Dataset\n",
    "import metpy as metpy\n",
    "import metpy.calc as mpcalc\n",
    "from metpy.plots import ctables\n",
    "from metpy.units import units\n",
    "from metpy.plots import add_metpy_logo, add_timestamp\n",
    "import cartopy.crs as ccrs\n",
    "import cartopy.feature as cfeature\n",
    "import scipy.ndimage as ndimage\n",
    "from scipy.ndimage import gaussian_filter\n",
    "from scipy import interpolate\n",
    "from scipy.stats import pearsonr\n",
    "import cartopy.crs as crs\n",
    "from cartopy.feature import NaturalEarthFeature\n",
    "from cartopy import config\n",
    "import wrf\n",
    "from wrf import (to_np, interplevel, geo_bounds, getvar, smooth2d, get_cartopy, cartopy_xlim,\n",
    "                 cartopy_ylim, latlon_coords)\n",
    "# Download and add the states and coastlines\n",
    "states = NaturalEarthFeature(category=\"cultural\", scale=\"50m\",\n",
    "                          facecolor=\"none\", name=\"admin_1_states_provinces_shp\")\n",
    "import glob"
   ]
  },
  {
   "cell_type": "code",
   "execution_count": 18,
   "id": "993dc46b-2448-44b3-863c-ff0de6932105",
   "metadata": {},
   "outputs": [
    {
     "name": "stdout",
     "output_type": "stream",
     "text": [
      "72\n"
     ]
    }
   ],
   "source": [
    "datafiles = glob.glob(\"/scratch/sawyer/wwrf/2017-01-09/wwrf_6km_reanalysis/cf/wrf*\")\n",
    "datafiles.sort()\n",
    "numfiles=len(datafiles)\n",
    "print(numfiles)\n",
    "#print(datafiles)\n",
    "# Assuming you only want to inspect the first file"
   ]
  },
  {
   "cell_type": "code",
   "execution_count": 20,
   "id": "f36b78e8-0ee1-49a7-83bc-0d94d34ce670",
   "metadata": {},
   "outputs": [
    {
     "ename": "ValueError",
     "evalue": "did not find a match in any of xarray's currently installed IO backends ['netcdf4', 'scipy', 'gini']. Consider explicitly selecting one of the installed engines via the ``engine`` parameter, or installing additional IO dependencies, see:\nhttps://docs.xarray.dev/en/stable/getting-started-guide/installing.html\nhttps://docs.xarray.dev/en/stable/user-guide/io.html",
     "output_type": "error",
     "traceback": [
      "\u001b[0;31m---------------------------------------------------------------------------\u001b[0m",
      "\u001b[0;31mValueError\u001b[0m                                Traceback (most recent call last)",
      "Cell \u001b[0;32mIn[20], line 3\u001b[0m\n\u001b[1;32m      1\u001b[0m \u001b[38;5;66;03m#ncfile = Dataset(datafiles[0])\u001b[39;00m\n\u001b[1;32m      2\u001b[0m \u001b[38;5;66;03m# Open the files using xarray\u001b[39;00m\n\u001b[0;32m----> 3\u001b[0m datasets \u001b[38;5;241m=\u001b[39m \u001b[43m[\u001b[49m\u001b[43mxr\u001b[49m\u001b[38;5;241;43m.\u001b[39;49m\u001b[43mopen_dataset\u001b[49m\u001b[43m(\u001b[49m\u001b[43mfile\u001b[49m\u001b[43m)\u001b[49m\u001b[43m \u001b[49m\u001b[38;5;28;43;01mfor\u001b[39;49;00m\u001b[43m \u001b[49m\u001b[43mfile\u001b[49m\u001b[43m \u001b[49m\u001b[38;5;129;43;01min\u001b[39;49;00m\u001b[43m \u001b[49m\u001b[43mdatafiles\u001b[49m\u001b[43m]\u001b[49m\n\u001b[1;32m      5\u001b[0m \u001b[38;5;66;03m# Now, you can work with 'datasets', which is a list of xarray.Dataset objects\u001b[39;00m\n\u001b[1;32m      6\u001b[0m \u001b[38;5;66;03m# For example, to print the contents of the first dataset\u001b[39;00m\n\u001b[1;32m      7\u001b[0m \u001b[38;5;28mprint\u001b[39m(datasets[\u001b[38;5;241m0\u001b[39m])\n",
      "Cell \u001b[0;32mIn[20], line 3\u001b[0m, in \u001b[0;36m<listcomp>\u001b[0;34m(.0)\u001b[0m\n\u001b[1;32m      1\u001b[0m \u001b[38;5;66;03m#ncfile = Dataset(datafiles[0])\u001b[39;00m\n\u001b[1;32m      2\u001b[0m \u001b[38;5;66;03m# Open the files using xarray\u001b[39;00m\n\u001b[0;32m----> 3\u001b[0m datasets \u001b[38;5;241m=\u001b[39m [\u001b[43mxr\u001b[49m\u001b[38;5;241;43m.\u001b[39;49m\u001b[43mopen_dataset\u001b[49m\u001b[43m(\u001b[49m\u001b[43mfile\u001b[49m\u001b[43m)\u001b[49m \u001b[38;5;28;01mfor\u001b[39;00m file \u001b[38;5;129;01min\u001b[39;00m datafiles]\n\u001b[1;32m      5\u001b[0m \u001b[38;5;66;03m# Now, you can work with 'datasets', which is a list of xarray.Dataset objects\u001b[39;00m\n\u001b[1;32m      6\u001b[0m \u001b[38;5;66;03m# For example, to print the contents of the first dataset\u001b[39;00m\n\u001b[1;32m      7\u001b[0m \u001b[38;5;28mprint\u001b[39m(datasets[\u001b[38;5;241m0\u001b[39m])\n",
      "File \u001b[0;32m/opt/tljh/user/envs/MEA443/lib/python3.11/site-packages/xarray/backends/api.py:524\u001b[0m, in \u001b[0;36mopen_dataset\u001b[0;34m(filename_or_obj, engine, chunks, cache, decode_cf, mask_and_scale, decode_times, decode_timedelta, use_cftime, concat_characters, decode_coords, drop_variables, inline_array, backend_kwargs, **kwargs)\u001b[0m\n\u001b[1;32m    521\u001b[0m     kwargs\u001b[38;5;241m.\u001b[39mupdate(backend_kwargs)\n\u001b[1;32m    523\u001b[0m \u001b[38;5;28;01mif\u001b[39;00m engine \u001b[38;5;129;01mis\u001b[39;00m \u001b[38;5;28;01mNone\u001b[39;00m:\n\u001b[0;32m--> 524\u001b[0m     engine \u001b[38;5;241m=\u001b[39m \u001b[43mplugins\u001b[49m\u001b[38;5;241;43m.\u001b[39;49m\u001b[43mguess_engine\u001b[49m\u001b[43m(\u001b[49m\u001b[43mfilename_or_obj\u001b[49m\u001b[43m)\u001b[49m\n\u001b[1;32m    526\u001b[0m backend \u001b[38;5;241m=\u001b[39m plugins\u001b[38;5;241m.\u001b[39mget_backend(engine)\n\u001b[1;32m    528\u001b[0m decoders \u001b[38;5;241m=\u001b[39m _resolve_decoders_kwargs(\n\u001b[1;32m    529\u001b[0m     decode_cf,\n\u001b[1;32m    530\u001b[0m     open_backend_dataset_parameters\u001b[38;5;241m=\u001b[39mbackend\u001b[38;5;241m.\u001b[39mopen_dataset_parameters,\n\u001b[0;32m   (...)\u001b[0m\n\u001b[1;32m    536\u001b[0m     decode_coords\u001b[38;5;241m=\u001b[39mdecode_coords,\n\u001b[1;32m    537\u001b[0m )\n",
      "File \u001b[0;32m/opt/tljh/user/envs/MEA443/lib/python3.11/site-packages/xarray/backends/plugins.py:177\u001b[0m, in \u001b[0;36mguess_engine\u001b[0;34m(store_spec)\u001b[0m\n\u001b[1;32m    169\u001b[0m \u001b[38;5;28;01melse\u001b[39;00m:\n\u001b[1;32m    170\u001b[0m     error_msg \u001b[38;5;241m=\u001b[39m (\n\u001b[1;32m    171\u001b[0m         \u001b[38;5;124m\"\u001b[39m\u001b[38;5;124mfound the following matches with the input file in xarray\u001b[39m\u001b[38;5;124m'\u001b[39m\u001b[38;5;124ms IO \u001b[39m\u001b[38;5;124m\"\u001b[39m\n\u001b[1;32m    172\u001b[0m         \u001b[38;5;124mf\u001b[39m\u001b[38;5;124m\"\u001b[39m\u001b[38;5;124mbackends: \u001b[39m\u001b[38;5;132;01m{\u001b[39;00mcompatible_engines\u001b[38;5;132;01m}\u001b[39;00m\u001b[38;5;124m. But their dependencies may not be installed, see:\u001b[39m\u001b[38;5;130;01m\\n\u001b[39;00m\u001b[38;5;124m\"\u001b[39m\n\u001b[1;32m    173\u001b[0m         \u001b[38;5;124m\"\u001b[39m\u001b[38;5;124mhttps://docs.xarray.dev/en/stable/user-guide/io.html \u001b[39m\u001b[38;5;130;01m\\n\u001b[39;00m\u001b[38;5;124m\"\u001b[39m\n\u001b[1;32m    174\u001b[0m         \u001b[38;5;124m\"\u001b[39m\u001b[38;5;124mhttps://docs.xarray.dev/en/stable/getting-started-guide/installing.html\u001b[39m\u001b[38;5;124m\"\u001b[39m\n\u001b[1;32m    175\u001b[0m     )\n\u001b[0;32m--> 177\u001b[0m \u001b[38;5;28;01mraise\u001b[39;00m \u001b[38;5;167;01mValueError\u001b[39;00m(error_msg)\n",
      "\u001b[0;31mValueError\u001b[0m: did not find a match in any of xarray's currently installed IO backends ['netcdf4', 'scipy', 'gini']. Consider explicitly selecting one of the installed engines via the ``engine`` parameter, or installing additional IO dependencies, see:\nhttps://docs.xarray.dev/en/stable/getting-started-guide/installing.html\nhttps://docs.xarray.dev/en/stable/user-guide/io.html"
     ]
    }
   ],
   "source": [
    "ncfile = Dataset(datafiles[0])\n",
    "\n",
    "# Now, you can work with 'datasets', which is a list of xarray.Dataset objects\n",
    "# For example, to print the contents of the first dataset\n",
    "print(datasets[0])\n",
    "lat =ncfile['lat'][:]\n",
    "wwrflon = ncfile['lon'][:]\n",
    "nx = lat.shape[0]\n",
    "ny = lat.shape[1]\n",
    "print(nx,ny,wwrflon.shape)\n",
    "## WWRF longitude fix ######\n",
    "lon =np.where(wwrflon > 0, wwrflon - 360, wwrflon)\n",
    "\n",
    "storm_total = np.zeros([nx,ny])\n",
    "\n",
    "for j in range(0,numfiles):\n",
    "    ncfile = Dataset(datafiles[j])\n",
    "    precip_bkt = ncfile['precip_bkt'][0]\n",
    "    storm_total += precip_bkt\n",
    "    "
   ]
  },
  {
   "cell_type": "code",
   "execution_count": null,
   "id": "926f3ce7-b148-4a48-9668-15afd217a056",
   "metadata": {},
   "outputs": [],
   "source": [
    "lcc_projection = ccrs.LambertConformal(\n",
    "    central_longitude=-125.0,\n",
    "    central_latitude=40.99998,\n",
    "    standard_parallels=(50, 32))"
   ]
  },
  {
   "cell_type": "code",
   "execution_count": null,
   "id": "a6f3c7d9-1896-4bf8-bb58-bbaaeabb7546",
   "metadata": {},
   "outputs": [],
   "source": [
    "# dark brown for state/coastlines\n",
    "dark_brown = (0.4, 0.2, 0)\n",
    "# Create a basic map using Cartopy\n",
    "fig, ax = plt.subplots(subplot_kw={'projection': lcc_projection})\n",
    "ax.set_extent([-125,-115,32,42])\n",
    "ax.add_feature(cfeature.COASTLINE, linewidth=0.5, edgecolor=dark_brown)#Add coastlines)\n",
    "ax.add_feature(cfeature.STATES, linewidth=0.5,edgecolor=dark_brown)\n",
    "cp = ax.contourf(lon, lat, storm_total,levels = np.arange(1,20,5),transform=ccrs.PlateCarree()) # here, `precip[0,:,:]` assumes you're plotting the first time step.\n",
    "fig.colorbar(cp, ax=ax, label=\"Precipitation (mm)\")  # replace 'units' with your actual units\n",
    "\n",
    "# Add coastlines and gridlines\n",
    "ax.coastlines()\n",
    "#ax.gridlines(draw_labels=True)\n",
    "\n",
    "# Display the plot\n",
    "plt.show()"
   ]
  },
  {
   "cell_type": "code",
   "execution_count": null,
   "id": "ce212c8c-3433-47ba-875c-58b63a959f05",
   "metadata": {},
   "outputs": [],
   "source": [
    "fig, axs = plt.subplots(nrows=3, ncols=4, figsize=(24, 16),\n",
    "                        subplot_kw={'projection': lcc_projection})\n",
    "axs = axs.ravel()  # Flatten axs\n",
    "\n",
    "# Loop through the first N-1 elements\n",
    "for i in range(len(ivt_list)- 1):\n",
    "    ax = axs[i]\n",
    "    ax.set_extent([-140, -113, 25, 50])\n",
    "    ax.add_feature(cfeature.COASTLINE, linewidth=1.0, edgecolor='black')\n",
    "    ax.add_feature(cfeature.STATES, linewidth=1.0, edgecolor='black')\n",
    "    ax.set_title(titles[i], fontweight='bold')\n",
    "    cp = ax.contourf(to_np(new_lons), to_np(wrf_lats), to_np(ivt_list[i]), cmap='jet', \n",
    "                     levels=wnd_levels_850, transform=ccrs.PlateCarree())\n",
    "    cp1 = ax.contour(to_np(new_lons), to_np(wrf_lats), to_np(slp_list[i]),\n",
    "                         colors = 'black',levels=levels_850, linewidths=.7, alpha=1,transform=crs.PlateCarree())\n",
    "    ax.clabel(cp1, fmt='%1.0f', inline=True,levels=levels_850)\n",
    "\n",
    "\n",
    "# Handle the last plot separately\n",
    "ax = axs[len(ivt_list) - 1]\n",
    "ax.set_extent([-140, -113, 25, 50])\n",
    "ax.add_feature(cfeature.COASTLINE, linewidth=1.0, edgecolor='black')\n",
    "ax.add_feature(cfeature.STATES, linewidth=1.0, edgecolor='black')\n",
    "ax.set_title(titles[-1], fontweight='bold')\n",
    "cp = ax.contourf(to_np(wwrf_lons), to_np(lat), to_np(ivt_list[-1]), cmap='jet', \n",
    "                 levels=wnd_levels_850, transform=ccrs.PlateCarree())\n",
    "cp2 = ax.contour(to_np(wwrf_lons), to_np(lat), to_np(slp_list[-1]),\n",
    "                         colors = 'black',levels=levels_850, linewidths=.7, alpha=1,transform=crs.PlateCarree())\n",
    "ax.clabel(cp2, fmt='%1.0f', inline=True,levels=levels_850)\n",
    "\n",
    "# Turn off any remaining subplots\n",
    "for i in range(len(ivt_list), len(axs)):\n",
    "    axs[i].axis('off')\n",
    "# Add a single colorbar at the bottom of the figure\n",
    "cbar_ax = fig.add_axes([0.15, 0.08, 0.7, 0.02])  # Adjust these dimensions to fit the colorbar nicely\n",
    "cbar = fig.colorbar(cp, cax=cbar_ax, orientation='horizontal')\n",
    "cbar.set_label(\"Wind Speed (Kts)\", fontsize = 12)\n",
    "# Adjust layout\n",
    "fig.tight_layout()\n",
    "plt.subplots_adjust(bottom=0.15)  # Make space for the colorbar\n",
    "\n",
    "plt.savefig('850winds_18z_8Jan')\n",
    "plt.show()"
   ]
  }
 ],
 "metadata": {
  "kernelspec": {
   "display_name": "MEA443",
   "language": "python",
   "name": "mea443"
  },
  "language_info": {
   "codemirror_mode": {
    "name": "ipython",
    "version": 3
   },
   "file_extension": ".py",
   "mimetype": "text/x-python",
   "name": "python",
   "nbconvert_exporter": "python",
   "pygments_lexer": "ipython3",
   "version": "3.11.0"
  }
 },
 "nbformat": 4,
 "nbformat_minor": 5
}
