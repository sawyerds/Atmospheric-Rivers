{
 "cells": [
  {
   "cell_type": "code",
   "execution_count": 1,
   "id": "910bcee4-1a56-4145-ba24-290fbfa5c3ea",
   "metadata": {},
   "outputs": [
    {
     "name": "stdout",
     "output_type": "stream",
     "text": [
      "0.0\n"
     ]
    }
   ],
   "source": [
    "import numpy as np\n",
    "\n",
    "def compute_bias_2d(predictions, true_values):\n",
    "    \"\"\"Compute the bias for 2D arrays.\"\"\"\n",
    "    if predictions.shape != true_values.shape:\n",
    "        raise ValueError(\"Both input arrays should have the same shape.\")\n",
    "    \n",
    "    total_difference = np.sum(predictions - true_values)\n",
    "    bias = total_difference / predictions.size\n",
    "    return bias\n",
    "\n",
    "# Example usage:\n",
    "predictions = np.array([[3.2, 4.1], [5.9, 6.3]])\n",
    "true_values = np.array([[3.0, 4.0], [6.0, 6.5]])\n",
    "print(compute_bias_2d(predictions, true_values))\n"
   ]
  },
  {
   "cell_type": "code",
   "execution_count": null,
   "id": "38d593ec-aa72-4ad7-9e03-9716691dafe9",
   "metadata": {},
   "outputs": [],
   "source": []
  }
 ],
 "metadata": {
  "kernelspec": {
   "display_name": "MEA443",
   "language": "python",
   "name": "mea443"
  },
  "language_info": {
   "codemirror_mode": {
    "name": "ipython",
    "version": 3
   },
   "file_extension": ".py",
   "mimetype": "text/x-python",
   "name": "python",
   "nbconvert_exporter": "python",
   "pygments_lexer": "ipython3",
   "version": "3.11.0"
  }
 },
 "nbformat": 4,
 "nbformat_minor": 5
}
